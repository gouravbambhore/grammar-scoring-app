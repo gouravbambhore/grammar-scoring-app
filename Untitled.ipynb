{
 "cells": [
  {
   "cell_type": "code",
   "execution_count": 31,
   "id": "9baef441-4269-45b6-8fb7-a89bb863f06a",
   "metadata": {},
   "outputs": [],
   "source": [
    "#%% [code]\n",
    "# Import required libraries\n",
    "import os\n",
    "import warnings\n",
    "import numpy as np\n",
    "import pandas as pd\n",
    "import librosa\n",
    "import matplotlib.pyplot as plt\n",
    "\n",
    "from sklearn.ensemble import RandomForestRegressor\n",
    "from sklearn.metrics import mean_squared_error\n",
    "from sklearn.model_selection import train_test_split\n",
    "import joblib\n",
    "\n",
    "# Suppress warnings for cleaner output\n",
    "warnings.filterwarnings(\"ignore\")\n",
    "\n",
    "# Set random seed for reproducibility\n",
    "RANDOM_STATE = 42\n"
   ]
  },
  {
   "cell_type": "code",
   "execution_count": 33,
   "id": "1f24537e-af66-4652-88c8-27c97089b315",
   "metadata": {},
   "outputs": [],
   "source": [
    "def extract_features(file_path, sr=22050, n_mfcc=13, duration=5):\n",
    "    \"\"\"\n",
    "    Extracts audio features from a file.\n",
    "    \n",
    "    Parameters:\n",
    "      file_path (str): Path to the audio file.\n",
    "      sr (int): Sampling rate.\n",
    "      n_mfcc (int): Number of MFCCs to extract.\n",
    "      duration (float): Duration (in seconds) to load.\n",
    "    \n",
    "    Returns:\n",
    "      np.array: Feature vector containing mean and std of MFCC and chroma features.\n",
    "                Total features = (n_mfcc*2 + 12*2).\n",
    "    \"\"\"\n",
    "    try:\n",
    "        # Load audio file (only a defined duration for consistency)\n",
    "        audio, _ = librosa.load(file_path, sr=sr, duration=duration)\n",
    "        \n",
    "        # Extract MFCC features and compute statistics\n",
    "        mfccs = librosa.feature.mfcc(y=audio, sr=sr, n_mfcc=n_mfcc)\n",
    "        mfccs_mean = np.mean(mfccs, axis=1)\n",
    "        mfccs_std  = np.std(mfccs, axis=1)\n",
    "        \n",
    "        # Extract Chroma features and compute statistics\n",
    "        chroma = librosa.feature.chroma_stft(y=audio, sr=sr)\n",
    "        chroma_mean = np.mean(chroma, axis=1)\n",
    "        chroma_std  = np.std(chroma, axis=1)\n",
    "        \n",
    "        # Combine features into a single vector\n",
    "        features = np.concatenate((mfccs_mean, mfccs_std, chroma_mean, chroma_std))\n",
    "    except Exception as e:\n",
    "        print(f\"Error processing {file_path}: {e}\")\n",
    "        # Create a zero vector in case of error [Length: n_mfcc*2 + (12*2)]\n",
    "        features = np.zeros(n_mfcc*2 + 24)\n",
    "    return features\n",
    "\n",
    "# Quick test: Uncomment the following two lines to extract features from a sample file.\n",
    "# sample_feature = extract_features('audios_train/sample.wav')\n",
    "# print(\"Extracted feature vector shape:\", sample_feature.shape)\n"
   ]
  },
  {
   "cell_type": "code",
   "execution_count": 35,
   "id": "13c2f42f-211f-4f41-9412-18ad2a182ba9",
   "metadata": {},
   "outputs": [
    {
     "name": "stdout",
     "output_type": "stream",
     "text": [
      "Train data samples: (444, 2)\n",
      "Test data samples: (195, 1)\n"
     ]
    }
   ],
   "source": [
    "# File paths (adjust these names if needed)\n",
    "train_csv = \"train_file.csv\"\n",
    "test_csv = \"test_file.csv\"\n",
    "submission_csv = \"sample_submission.csv\"\n",
    "\n",
    "# Directories containing your audio files\n",
    "audios_train_dir = \"audios_train\"\n",
    "audios_test_dir = \"audios_test\"\n",
    "\n",
    "# Load CSV files\n",
    "train_df = pd.read_csv(train_csv)\n",
    "test_df = pd.read_csv(test_csv)\n",
    "submission_df = pd.read_csv(submission_csv)\n",
    "\n",
    "print(\"Train data samples:\", train_df.shape)\n",
    "print(\"Test data samples:\", test_df.shape)\n"
   ]
  },
  {
   "cell_type": "code",
   "execution_count": 49,
   "id": "95da3a67-1b4f-4366-9466-36f1cc648bf1",
   "metadata": {},
   "outputs": [
    {
     "name": "stdout",
     "output_type": "stream",
     "text": [
      "Validation RMSE: 1.05777684505409\n"
     ]
    }
   ],
   "source": [
    "# Split training data for validation\n",
    "X_tr, X_val, y_tr, y_val = train_test_split(\n",
    "    X_train, y_train, test_size=0.2, random_state=RANDOM_STATE\n",
    ")\n",
    "\n",
    "# Train a RandomForestRegressor\n",
    "model = RandomForestRegressor(n_estimators=100, random_state=RANDOM_STATE)\n",
    "model.fit(X_tr, y_tr)\n",
    "\n",
    "# Evaluate on the validation set\n",
    "y_val_pred = model.predict(X_val)\n",
    "rmse = np.sqrt(mean_squared_error(y_val, y_val_pred))\n",
    "print(\"Validation RMSE:\", rmse)\n"
   ]
  },
  {
   "cell_type": "code",
   "execution_count": 51,
   "id": "d48c4b09-6365-4ee3-b71d-e8faed11ac09",
   "metadata": {},
   "outputs": [
    {
     "name": "stdout",
     "output_type": "stream",
     "text": [
      "Final model saved as 'grammar_scoring_model.joblib'\n"
     ]
    }
   ],
   "source": [
    "# Train final model on full training data\n",
    "final_model = RandomForestRegressor(n_estimators=100, random_state=RANDOM_STATE)\n",
    "final_model.fit(X_train, y_train)\n",
    "\n",
    "# Save the final model for later use (deployment etc.)\n",
    "joblib.dump(final_model, \"grammar_scoring_model.joblib\")\n",
    "print(\"Final model saved as 'grammar_scoring_model.joblib'\")\n"
   ]
  },
  {
   "cell_type": "code",
   "execution_count": 53,
   "id": "029f03c7-6509-4650-a4ef-a30d61a9b564",
   "metadata": {},
   "outputs": [
    {
     "name": "stdout",
     "output_type": "stream",
     "text": [
      "Submission CSV saved as 'final_submission.csv'\n"
     ]
    }
   ],
   "source": [
    "# Generate predictions for test data\n",
    "predictions = final_model.predict(X_test)\n",
    "\n",
    "# Here, we assume that the submission file should contain file names and predicted scores.\n",
    "submission = pd.DataFrame({\n",
    "    \"file_name\": test_file_names,\n",
    "    \"score\": predictions\n",
    "})\n",
    "submission.to_csv(\"final_submission.csv\", index=False)\n",
    "print(\"Submission CSV saved as 'final_submission.csv'\")\n"
   ]
  },
  {
   "cell_type": "code",
   "execution_count": null,
   "id": "e6375515-dba9-4674-ba38-f1d4065a01b3",
   "metadata": {},
   "outputs": [],
   "source": []
  }
 ],
 "metadata": {
  "kernelspec": {
   "display_name": "Python 3 (ipykernel)",
   "language": "python",
   "name": "python3"
  },
  "language_info": {
   "codemirror_mode": {
    "name": "ipython",
    "version": 3
   },
   "file_extension": ".py",
   "mimetype": "text/x-python",
   "name": "python",
   "nbconvert_exporter": "python",
   "pygments_lexer": "ipython3",
   "version": "3.12.4"
  }
 },
 "nbformat": 4,
 "nbformat_minor": 5
}
